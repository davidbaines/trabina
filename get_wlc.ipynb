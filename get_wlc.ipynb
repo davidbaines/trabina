{
 "cells": [
  {
   "cell_type": "markdown",
   "id": "a3dddf56-eba1-4dc1-9cfc-1f8c3084a3b9",
   "metadata": {
    "tags": []
   },
   "source": [
    "# Download the xml for the Westminster Leningrad Codex.\n",
    "Save the text in our silnlp extract format."
   ]
  },
  {
   "cell_type": "code",
   "execution_count": 1,
   "id": "f110f71b-b3fb-4a4a-a42c-4730d8d3d650",
   "metadata": {},
   "outputs": [],
   "source": [
    "from pathlib import Path\n",
    "import shutil\n",
    "import urllib.request\n",
    "import zipfile\n"
   ]
  },
  {
   "cell_type": "code",
   "execution_count": 2,
   "id": "59d6bf69-8fe1-44fb-8875-c0ba10c749bd",
   "metadata": {},
   "outputs": [],
   "source": [
    "# Download zip of all the books in xml format.\n",
    "url = r\"https://tanach.us/Books/Tanach.xml.zip\"\n",
    "wlc_folder = Path(r\"D:/GitHub/davidbaines/trabina/data/wlc\")\n",
    "\n",
    "zip_folder = wlc_folder / \"zip\"\n",
    "xml_folder = wlc_folder / \"xml\""
   ]
  },
  {
   "cell_type": "code",
   "execution_count": 5,
   "id": "c2be2d47-238f-411c-a0ca-bcc953e2feb0",
   "metadata": {},
   "outputs": [
    {
     "ename": "TypeError",
     "evalue": "'module' object is not callable",
     "output_type": "error",
     "traceback": [
      "\u001b[1;31m---------------------------------------------------------------------------\u001b[0m",
      "\u001b[1;31mTypeError\u001b[0m                                 Traceback (most recent call last)",
      "Input \u001b[1;32mIn [5]\u001b[0m, in \u001b[0;36m<cell line: 10>\u001b[1;34m()\u001b[0m\n\u001b[0;32m      2\u001b[0m wlc_zipfile \u001b[38;5;241m=\u001b[39m zip_folder \u001b[38;5;241m/\u001b[39m \u001b[38;5;124m\"\u001b[39m\u001b[38;5;124mTanach.xml.zip\u001b[39m\u001b[38;5;124m\"\u001b[39m\n\u001b[0;32m      4\u001b[0m \u001b[38;5;66;03m#if not wlc_zipfile.is_file():\u001b[39;00m\n\u001b[0;32m      5\u001b[0m \u001b[38;5;66;03m#    # Download the file from the url and save it locally:\u001b[39;00m\n\u001b[0;32m      6\u001b[0m \u001b[38;5;66;03m#    with urllib.request.urlopen(url) as response, open(wlc_zipfile, 'wb') as out_file:\u001b[39;00m\n\u001b[0;32m      7\u001b[0m \u001b[38;5;66;03m#        shutil.copyfileobj(response, out_file)\u001b[39;00m\n\u001b[1;32m---> 10\u001b[0m wlc_zip \u001b[38;5;241m=\u001b[39m \u001b[43mzipfile\u001b[49m\u001b[43m(\u001b[49m\u001b[43mwlc_zipfile\u001b[49m\u001b[43m)\u001b[49m\n\u001b[0;32m     11\u001b[0m wlc_zipfile\u001b[38;5;241m.\u001b[39mextractall(xml_folder)\n",
      "\u001b[1;31mTypeError\u001b[0m: 'module' object is not callable"
     ]
    }
   ],
   "source": [
    "# If the file is not downloaded, download it.\n",
    "wlc_zipfile = zip_folder / \"Tanach.xml.zip\"\n",
    "\n",
    "#if not wlc_zipfile.is_file():\n",
    "#    # Download the file from the url and save it locally:\n",
    "#    with urllib.request.urlopen(url) as response, open(wlc_zipfile, 'wb') as out_file:\n",
    "#        shutil.copyfileobj(response, out_file)\n",
    "\n",
    "\n",
    "wlc_zip = zipfile(wlc_zipfile)\n",
    "wlc_zipfile.extractall(xml_folder)"
   ]
  },
  {
   "cell_type": "code",
   "execution_count": 7,
   "id": "2df437cb-d268-4d71-aa9c-7029ad8bc7db",
   "metadata": {},
   "outputs": [
    {
     "name": "stdout",
     "output_type": "stream",
     "text": [
      "['Amos.xml', 'Chronicles_1.xml', 'Chronicles_2.xml', 'Daniel.xml', 'Deuteronomy.xml', 'Ecclesiastes.xml', 'Esther.xml', 'Exodus.xml', 'Ezekiel.xml', 'Ezra.xml', 'Genesis.xml', 'Habakkuk.xml', 'Haggai.xml', 'Hosea.xml', 'Isaiah.xml', 'Jeremiah.xml', 'Job.xml', 'Joel.xml', 'Jonah.xml', 'Joshua.xml', 'Judges.xml', 'Kings_1.xml', 'Kings_2.xml', 'Lamentations.xml', 'Leviticus.xml', 'Malachi.xml', 'Micah.xml', 'Nahum.xml', 'Nehemiah.xml', 'Numbers.xml', 'Obadiah.xml', 'Proverbs.xml', 'Psalms.xml', 'Ruth.xml', 'Samuel_1.xml', 'Samuel_2.xml', 'Song_of_songs.xml', 'Zechariah.xml', 'Zephaniah.xml']\n"
     ]
    }
   ],
   "source": [
    "books = [\"Amos\", \"Chronicles_1\", \"Chronicles_2\", \"Daniel\", \"Deuteronomy\", \"Ecclesiastes\", \"Esther\", \"Exodus\", \"Ezekiel\", \"Ezra\", \"Genesis\", \"Habakkuk\", \"Haggai\", \"Hosea\", \"Isaiah\", \"Jeremiah\", \"Job\", \"Joel\", \"Jonah\", \"Joshua\", \"Judges\", \"Kings_1\", \"Kings_2\", \"Lamentations\", \"Leviticus\", \"Malachi\", \"Micah\", \"Nahum\", \"Nehemiah\", \"Numbers\", \"Obadiah\", \"Proverbs\", \"Psalms\", \"Ruth\", \"Samuel_1\", \"Samuel_2\", \"Song_of_songs\", \"Zechariah\", \"Zephaniah\",]\n",
    "bookfilenames = [ book + \".xml\" for book in books]\n",
    "print(bookfilenames)"
   ]
  },
  {
   "cell_type": "code",
   "execution_count": null,
   "id": "01049d74-72d2-4d5d-9072-920f76083f81",
   "metadata": {},
   "outputs": [],
   "source": []
  }
 ],
 "metadata": {
  "kernelspec": {
   "display_name": "Python 3 (ipykernel)",
   "language": "python",
   "name": "python3"
  },
  "language_info": {
   "codemirror_mode": {
    "name": "ipython",
    "version": 3
   },
   "file_extension": ".py",
   "mimetype": "text/x-python",
   "name": "python",
   "nbconvert_exporter": "python",
   "pygments_lexer": "ipython3",
   "version": "3.8.7rc1"
  }
 },
 "nbformat": 4,
 "nbformat_minor": 5
}
