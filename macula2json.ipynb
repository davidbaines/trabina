{
 "cells": [
  {
   "cell_type": "markdown",
   "id": "e5377f3f-bc7a-4d70-bccb-02052c178d0b",
   "metadata": {
    "tags": []
   },
   "source": [
    "# Read the macula names data from the greek and hebrew tsv files, add columns and write to a json file. "
   ]
  },
  {
   "cell_type": "code",
   "execution_count": 1,
   "id": "d237af99-90bc-4be6-819c-b58b93d54a41",
   "metadata": {},
   "outputs": [],
   "source": [
    "#!/usr/bin/env python3\n",
    "import csv\n",
    "import json\n",
    "import numpy as np\n",
    "import pandas as pd\n",
    "import re\n",
    "from pathlib import Path\n"
   ]
  },
  {
   "cell_type": "code",
   "execution_count": 2,
   "id": "5767e3ef-3e6c-4094-b6d3-adac5f8b97ac",
   "metadata": {},
   "outputs": [],
   "source": [
    "data_folder = Path(\"D:/GitHub/davidbaines/trabina/data\")\n",
    "\n",
    "hebrew_refs_and_names = data_folder / \"hebrew_refs_and_names.tsv\"\n",
    "hebrew_cols = {0: 'ref', 1: 'Hebrew source', 2: 'English gloss of Hebrew', 3:'Greek gloss of Hebrew', 4:'Mandarin gloss of Hebrew'}\n",
    "\n",
    "greek_refs_and_names = data_folder / \"greek_refs_and_names.tsv\"\n",
    "greek_cols = {0:'ref', 1:'Greek source', 2:'Greek lemma', 3:'Greek normalized', 4:'English gloss of Greek'}\n",
    "\n",
    "silnlp_assets_folder = Path(\"D:/GitHub/davidbaines/trabina/silnlp/assets\")\n",
    "silnlp_vref_file = silnlp_assets_folder / \"vref.txt\"\n",
    "\n",
    "macula_as_json_output_file = data_folder / \"macula.json\""
   ]
  },
  {
   "cell_type": "code",
   "execution_count": 3,
   "id": "1a02679e-a4a2-42e2-85bd-af4ed91e9ad8",
   "metadata": {},
   "outputs": [],
   "source": [
    "def read_tsv(file,column_names):\n",
    "    df = pd.read_table(file, header=None, dtype=str, sep='\\t')\n",
    "    df.fillna('', inplace=True)\n",
    "    df.rename(column_names, axis=\"columns\", inplace=True)\n",
    "    return df"
   ]
  },
  {
   "cell_type": "code",
   "execution_count": 4,
   "id": "4259e912-b5e3-4618-a640-bf236c1cd952",
   "metadata": {},
   "outputs": [],
   "source": [
    "def move_column(df, column_name, column_index):\n",
    "    col = df.pop(column_name)\n",
    "    return df.insert(column_index, col.name, col)"
   ]
  },
  {
   "cell_type": "code",
   "execution_count": 5,
   "id": "cc2a53f2-93ee-4533-8938-6e896bb44442",
   "metadata": {},
   "outputs": [],
   "source": [
    "def get_vrefs(silnlp_vref_file):    \n",
    "    ''' Get the silnlp references to line numbers:'''\n",
    "    with open(silnlp_vref_file, 'r', encoding='utf-8') as vrefs_file:\n",
    "        vrefs_dict = {ref.strip('\\n'): i+1 for i, ref in enumerate(vrefs_file.readlines())}\n",
    "    \n",
    "    vrefs = pd.DataFrame([vrefs_dict]).T\n",
    "    vrefs.rename({0:'silnlp_line_number'}, axis='columns', inplace=True)\n",
    "\n",
    "    # To convert reference to line number get the 1st (index 0) element of the vrefs for that reference. E.g.:\n",
    "    #print(vrefs.loc['ENO 1:2']['silnlp_line_number'])\n",
    "    return vrefs"
   ]
  },
  {
   "cell_type": "code",
   "execution_count": 6,
   "id": "855d30c0-0fcf-4f5a-ad3e-107ee3d2d19a",
   "metadata": {},
   "outputs": [
    {
     "data": {
      "text/html": [
       "<div>\n",
       "<style scoped>\n",
       "    .dataframe tbody tr th:only-of-type {\n",
       "        vertical-align: middle;\n",
       "    }\n",
       "\n",
       "    .dataframe tbody tr th {\n",
       "        vertical-align: top;\n",
       "    }\n",
       "\n",
       "    .dataframe thead th {\n",
       "        text-align: right;\n",
       "    }\n",
       "</style>\n",
       "<table border=\"1\" class=\"dataframe\">\n",
       "  <thead>\n",
       "    <tr style=\"text-align: right;\">\n",
       "      <th></th>\n",
       "      <th>silnlp_line_number</th>\n",
       "    </tr>\n",
       "  </thead>\n",
       "  <tbody>\n",
       "    <tr>\n",
       "      <th>GEN 1:1</th>\n",
       "      <td>1</td>\n",
       "    </tr>\n",
       "    <tr>\n",
       "      <th>GEN 1:2</th>\n",
       "      <td>2</td>\n",
       "    </tr>\n",
       "    <tr>\n",
       "      <th>GEN 1:3</th>\n",
       "      <td>3</td>\n",
       "    </tr>\n",
       "    <tr>\n",
       "      <th>GEN 1:4</th>\n",
       "      <td>4</td>\n",
       "    </tr>\n",
       "    <tr>\n",
       "      <th>GEN 1:5</th>\n",
       "      <td>5</td>\n",
       "    </tr>\n",
       "    <tr>\n",
       "      <th>...</th>\n",
       "      <td>...</td>\n",
       "    </tr>\n",
       "    <tr>\n",
       "      <th>ENO 42:12</th>\n",
       "      <td>41895</td>\n",
       "    </tr>\n",
       "    <tr>\n",
       "      <th>ENO 42:13</th>\n",
       "      <td>41896</td>\n",
       "    </tr>\n",
       "    <tr>\n",
       "      <th>ENO 42:14</th>\n",
       "      <td>41897</td>\n",
       "    </tr>\n",
       "    <tr>\n",
       "      <th>ENO 42:15</th>\n",
       "      <td>41898</td>\n",
       "    </tr>\n",
       "    <tr>\n",
       "      <th>ENO 42:16</th>\n",
       "      <td>41899</td>\n",
       "    </tr>\n",
       "  </tbody>\n",
       "</table>\n",
       "<p>41899 rows × 1 columns</p>\n",
       "</div>"
      ],
      "text/plain": [
       "           silnlp_line_number\n",
       "GEN 1:1                     1\n",
       "GEN 1:2                     2\n",
       "GEN 1:3                     3\n",
       "GEN 1:4                     4\n",
       "GEN 1:5                     5\n",
       "...                       ...\n",
       "ENO 42:12               41895\n",
       "ENO 42:13               41896\n",
       "ENO 42:14               41897\n",
       "ENO 42:15               41898\n",
       "ENO 42:16               41899\n",
       "\n",
       "[41899 rows x 1 columns]"
      ]
     },
     "execution_count": 6,
     "metadata": {},
     "output_type": "execute_result"
    }
   ],
   "source": [
    "vrefs = get_vrefs(silnlp_vref_file)\n",
    "hebrew = read_tsv(hebrew_refs_and_names, hebrew_cols)\n",
    "greek = read_tsv(greek_refs_and_names, greek_cols)\n",
    "vrefs"
   ]
  },
  {
   "cell_type": "code",
   "execution_count": 7,
   "id": "8e57092e-0f56-4fe1-bfe2-36d30ae642b0",
   "metadata": {},
   "outputs": [],
   "source": [
    "#hebrew"
   ]
  },
  {
   "cell_type": "code",
   "execution_count": 8,
   "id": "319db47e-a015-44cd-ba4a-c46da1b4c4cf",
   "metadata": {},
   "outputs": [],
   "source": [
    "#len(hebrew['ref'].unique())"
   ]
  },
  {
   "cell_type": "code",
   "execution_count": 9,
   "id": "fc2759e8-a00c-4022-9dfb-ad49395bd5a2",
   "metadata": {},
   "outputs": [],
   "source": [
    "#hebrew.loc[hebrew['Hebrew source'] == 'יְהוָ֧ה']\n",
    "#any(hebrew['ref'].duplicated()) "
   ]
  },
  {
   "cell_type": "code",
   "execution_count": 10,
   "id": "d4eedf3f-7df4-4e9c-bdaa-ad7b09eec656",
   "metadata": {},
   "outputs": [],
   "source": [
    "#greek"
   ]
  },
  {
   "cell_type": "code",
   "execution_count": 11,
   "id": "ae128057-a61d-436b-9cad-3ea3d84f01b4",
   "metadata": {},
   "outputs": [],
   "source": [
    "# Combine the Hebrew and Greek dataframes.\n",
    "macula = pd.concat([hebrew,greek], sort=False)\n",
    "\n",
    "macula['refs'] = macula['ref']\n",
    "macula.set_index(['ref'], inplace = True)\n",
    "\n",
    "macula = macula.fillna('')\n",
    "macula['Source'] = macula['Hebrew source'] + macula['Greek source']\n",
    "macula['English gloss'] = macula['English gloss of Hebrew'] + macula['English gloss of Greek']\n",
    "\n",
    "move_column(macula,'Source',0)\n",
    "move_column(macula,'English gloss',1)\n",
    "move_column(macula,'refs',0)\n",
    "\n",
    "macula[['book', 'chapter_no', 'verse_no', 'word_no']] = macula.refs.str.extract('^(?P<book>[A-Z]{3}) (?P<chapter_no>[0-9]{1,3}):(?P<verse_no>[0-9]{1,3})!(?P<word_no>[0-9]{1,3}$)')"
   ]
  },
  {
   "cell_type": "code",
   "execution_count": 12,
   "id": "217726f6-9726-41cf-9f6b-49a36a73cd9a",
   "metadata": {},
   "outputs": [],
   "source": [
    "macula['ref_only'] = macula.refs.str.split('!').str[0]\n",
    "macula = pd.merge(macula, vrefs, how='left', left_on='ref_only', right_index=True)\n",
    "#print(macula.dtypes)\n",
    "macula = macula.convert_dtypes()\n",
    "#print(macula.dtypes)\n"
   ]
  },
  {
   "cell_type": "code",
   "execution_count": 13,
   "id": "9a36da22-114d-4dc7-8079-99a1c0aad67f",
   "metadata": {},
   "outputs": [],
   "source": [
    "# This indicates the number of rows that are missing an English gloss.\n",
    "#macula[macula['English gloss']=='']['English gloss'].count()\n",
    "\n",
    "# To see the rows:\n",
    "#macula[macula['English gloss']=='']\n",
    "\n",
    "# Remove these rows.\n",
    "macula.drop(macula[macula['English gloss'] == ''].index, inplace=True)"
   ]
  },
  {
   "cell_type": "code",
   "execution_count": 14,
   "id": "78d93998-7fd8-4b03-8e23-6140bd3c59ef",
   "metadata": {},
   "outputs": [],
   "source": [
    "# Not really interested in the Deutero Canon, drop those.\n",
    "macula.drop(macula[macula.silnlp_line_number > 31170].index, inplace=True)"
   ]
  },
  {
   "cell_type": "code",
   "execution_count": 15,
   "id": "3af5bae0-48e8-49d8-b830-b2e7eb8bd0ac",
   "metadata": {},
   "outputs": [],
   "source": [
    "macula.to_json(macula_as_json_output_file, orient='records')"
   ]
  }
 ],
 "metadata": {
  "kernelspec": {
   "display_name": "Python 3 (ipykernel)",
   "language": "python",
   "name": "python3"
  },
  "language_info": {
   "codemirror_mode": {
    "name": "ipython",
    "version": 3
   },
   "file_extension": ".py",
   "mimetype": "text/x-python",
   "name": "python",
   "nbconvert_exporter": "python",
   "pygments_lexer": "ipython3",
   "version": "3.8.7rc1"
  }
 },
 "nbformat": 4,
 "nbformat_minor": 5
}
